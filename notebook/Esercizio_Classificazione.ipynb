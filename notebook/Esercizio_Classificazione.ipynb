{
 "cells": [
  {
   "cell_type": "markdown",
   "metadata": {},
   "source": [
    "# Esame Data Science - a.a. 2021/2022\n",
    "\n",
    "Di seguitono sono proposti gli esercizi per la prova d'esame.\n",
    "Per presentarsi all'esame è necessario aver implementato una soluzione per tutti e 3 gli esercizi.\n",
    "\n",
    "1. [Esercizio Classificazioen](#esercizio1)\n",
    "2. [Esercizio Serie Storica](#esercizio2)\n",
    "3. [Predizione di malattie cardiache](#esercizio3)"
   ]
  },
  {
   "cell_type": "code",
   "execution_count": 1,
   "metadata": {},
   "outputs": [],
   "source": [
    "import sys\n",
    "import pandas as pd\n",
    "import matplotlib.pyplot as plt\n",
    "sys.path.append('../')"
   ]
  },
  {
   "cell_type": "markdown",
   "metadata": {},
   "source": [
    "! pip install jupyter_contrib_nbextensions"
   ]
  },
  {
   "cell_type": "markdown",
   "metadata": {},
   "source": [
    "<a id=\"esercizio1\"></a>\n",
    "## Esercizio Classificazione"
   ]
  },
  {
   "cell_type": "markdown",
   "metadata": {},
   "source": [
    "L'Organizzazione mondiale della sanità ha stimato che 12 milioni di decessi si verificano in tutto il mondo, ogni anno a causa di malattie cardiache. La metà dei decessi negli Stati Uniti e in altri paesi sviluppati è dovuta a malattie cardiovascolari. La prognosi precoce delle malattie cardiovascolari può aiutare a prendere decisioni sui cambiamenti dello stile di vita nei pazienti ad alto rischio e, a sua volta, ridurre le complicanze.\n",
    "\n",
    "In questo esercizio si chiedere di utilizzare i decision tree (e magari i boosted decision trees) per individuare i fattori di rischio / delle malattie cardiache più rilevanti e prevedere il rischio complessivo utilizzando la regressione logistica."
   ]
  },
  {
   "cell_type": "markdown",
   "metadata": {},
   "source": [
    "Il dataset con i dati che useremo si trova nel filw `data/framingham.csv`. Il dataset contiene i seguenti dati:\n",
    "\n",
    "Demografici:\n",
    "- male: maschio o femmina (nominale)\n",
    "- age: età del paziente (continua - Sebbene le età registrate siano state troncate a numeri interi, il concetto di età è continuo)\n",
    "\n",
    "Comportamentali:\n",
    "- currentSmoker: se il paziente sia o meno un fumatore attuale (nominale)\n",
    "- cigsPerDay: il numero di sigarette che la persona ha fumato in media in un giorno (può essere considerato continuo in quanto si può avere un numero qualsiasi di sigarette, anche mezza sigaretta)\n",
    "\n",
    "Storia medica:\n",
    "- BPMeds: se il paziente assumeva o meno un farmaco per la pressione arteriosa (nominale)\n",
    "- prevalentStroke: se il paziente ha avuto o meno un ictus (nominale)\n",
    "- prevalentHyp: se il paziente è iperteso (nominale)\n",
    "- diabetes: se il paziente ha o meno il diabete (nominale)\n",
    "\n",
    "Situazione medica attuale:\n",
    "- totChol: livello di colesterolo totale (continuo)\n",
    "- sysBP: pressione arteriosa sistolica (continua)\n",
    "- diaBP: pressione arteriosa diastolica (continua)\n",
    "- BMI: indice di massa corporea (continuo)\n",
    "- heartRate: frequenza cardiaca (continua - Nella ricerca medica, variabili come la frequenza cardiaca, sebbene in realtà discrete, sono comunque considerate continue a causa del gran numero di possibili valori)\n",
    "- glucose: livello di glucosio (continuo)\n",
    "\n",
    "Variabile che si vuole predire (target desiderato):\n",
    "- TenYearCHD: Rischio di malattia coronarica nei prossimi 10 anni CHD (binario: '1' significa sì, '0' significa no)"
   ]
  },
  {
   "cell_type": "markdown",
   "metadata": {},
   "source": [
    "Si richiede di leggere il dataset, fare una parte di statistica descrittiva e quindi di provare a creare un albero decisionale sui dati in esso contenuti per descrivere quali variabili influiscono maggiormente sul consumo alcolico nei ragazzi.\n",
    "\n",
    "L'albero può essere troncato ad una profondità di qualche livello e deve essere allegato e discusso con alcune considerazioni sul dataset.\n",
    "\n",
    "Dopo la realizzazione dell'albero, viene richiesto di disegnarlo e caricare l'immagine nel notebook (è possibile utilizzare il sito internet visto a lezione (http://webgraphviz.com).\n",
    "I risultati ottenuti nell'albero devono essere quindi brevemente commentati."
   ]
  },
  {
   "cell_type": "code",
   "execution_count": 2,
   "metadata": {
    "scrolled": true
   },
   "outputs": [],
   "source": [
    "framingham = pd.read_csv('../data/framingham.csv')"
   ]
  },
  {
   "cell_type": "code",
   "execution_count": 3,
   "metadata": {},
   "outputs": [
    {
     "data": {
      "text/html": [
       "<div>\n",
       "<style scoped>\n",
       "    .dataframe tbody tr th:only-of-type {\n",
       "        vertical-align: middle;\n",
       "    }\n",
       "\n",
       "    .dataframe tbody tr th {\n",
       "        vertical-align: top;\n",
       "    }\n",
       "\n",
       "    .dataframe thead th {\n",
       "        text-align: right;\n",
       "    }\n",
       "</style>\n",
       "<table border=\"1\" class=\"dataframe\">\n",
       "  <thead>\n",
       "    <tr style=\"text-align: right;\">\n",
       "      <th></th>\n",
       "      <th>male</th>\n",
       "      <th>age</th>\n",
       "      <th>education</th>\n",
       "      <th>currentSmoker</th>\n",
       "      <th>cigsPerDay</th>\n",
       "      <th>BPMeds</th>\n",
       "      <th>prevalentStroke</th>\n",
       "      <th>prevalentHyp</th>\n",
       "      <th>diabetes</th>\n",
       "      <th>totChol</th>\n",
       "      <th>sysBP</th>\n",
       "      <th>diaBP</th>\n",
       "      <th>BMI</th>\n",
       "      <th>heartRate</th>\n",
       "      <th>glucose</th>\n",
       "      <th>TenYearCHD</th>\n",
       "    </tr>\n",
       "  </thead>\n",
       "  <tbody>\n",
       "    <tr>\n",
       "      <th>0</th>\n",
       "      <td>1</td>\n",
       "      <td>39</td>\n",
       "      <td>4.0</td>\n",
       "      <td>0</td>\n",
       "      <td>0.0</td>\n",
       "      <td>0.0</td>\n",
       "      <td>0</td>\n",
       "      <td>0</td>\n",
       "      <td>0</td>\n",
       "      <td>195.0</td>\n",
       "      <td>106.0</td>\n",
       "      <td>70.0</td>\n",
       "      <td>26.97</td>\n",
       "      <td>80.0</td>\n",
       "      <td>77.0</td>\n",
       "      <td>0</td>\n",
       "    </tr>\n",
       "    <tr>\n",
       "      <th>1</th>\n",
       "      <td>0</td>\n",
       "      <td>46</td>\n",
       "      <td>2.0</td>\n",
       "      <td>0</td>\n",
       "      <td>0.0</td>\n",
       "      <td>0.0</td>\n",
       "      <td>0</td>\n",
       "      <td>0</td>\n",
       "      <td>0</td>\n",
       "      <td>250.0</td>\n",
       "      <td>121.0</td>\n",
       "      <td>81.0</td>\n",
       "      <td>28.73</td>\n",
       "      <td>95.0</td>\n",
       "      <td>76.0</td>\n",
       "      <td>0</td>\n",
       "    </tr>\n",
       "    <tr>\n",
       "      <th>2</th>\n",
       "      <td>1</td>\n",
       "      <td>48</td>\n",
       "      <td>1.0</td>\n",
       "      <td>1</td>\n",
       "      <td>20.0</td>\n",
       "      <td>0.0</td>\n",
       "      <td>0</td>\n",
       "      <td>0</td>\n",
       "      <td>0</td>\n",
       "      <td>245.0</td>\n",
       "      <td>127.5</td>\n",
       "      <td>80.0</td>\n",
       "      <td>25.34</td>\n",
       "      <td>75.0</td>\n",
       "      <td>70.0</td>\n",
       "      <td>0</td>\n",
       "    </tr>\n",
       "    <tr>\n",
       "      <th>3</th>\n",
       "      <td>0</td>\n",
       "      <td>61</td>\n",
       "      <td>3.0</td>\n",
       "      <td>1</td>\n",
       "      <td>30.0</td>\n",
       "      <td>0.0</td>\n",
       "      <td>0</td>\n",
       "      <td>1</td>\n",
       "      <td>0</td>\n",
       "      <td>225.0</td>\n",
       "      <td>150.0</td>\n",
       "      <td>95.0</td>\n",
       "      <td>28.58</td>\n",
       "      <td>65.0</td>\n",
       "      <td>103.0</td>\n",
       "      <td>1</td>\n",
       "    </tr>\n",
       "    <tr>\n",
       "      <th>4</th>\n",
       "      <td>0</td>\n",
       "      <td>46</td>\n",
       "      <td>3.0</td>\n",
       "      <td>1</td>\n",
       "      <td>23.0</td>\n",
       "      <td>0.0</td>\n",
       "      <td>0</td>\n",
       "      <td>0</td>\n",
       "      <td>0</td>\n",
       "      <td>285.0</td>\n",
       "      <td>130.0</td>\n",
       "      <td>84.0</td>\n",
       "      <td>23.10</td>\n",
       "      <td>85.0</td>\n",
       "      <td>85.0</td>\n",
       "      <td>0</td>\n",
       "    </tr>\n",
       "    <tr>\n",
       "      <th>...</th>\n",
       "      <td>...</td>\n",
       "      <td>...</td>\n",
       "      <td>...</td>\n",
       "      <td>...</td>\n",
       "      <td>...</td>\n",
       "      <td>...</td>\n",
       "      <td>...</td>\n",
       "      <td>...</td>\n",
       "      <td>...</td>\n",
       "      <td>...</td>\n",
       "      <td>...</td>\n",
       "      <td>...</td>\n",
       "      <td>...</td>\n",
       "      <td>...</td>\n",
       "      <td>...</td>\n",
       "      <td>...</td>\n",
       "    </tr>\n",
       "    <tr>\n",
       "      <th>4233</th>\n",
       "      <td>1</td>\n",
       "      <td>50</td>\n",
       "      <td>1.0</td>\n",
       "      <td>1</td>\n",
       "      <td>1.0</td>\n",
       "      <td>0.0</td>\n",
       "      <td>0</td>\n",
       "      <td>1</td>\n",
       "      <td>0</td>\n",
       "      <td>313.0</td>\n",
       "      <td>179.0</td>\n",
       "      <td>92.0</td>\n",
       "      <td>25.97</td>\n",
       "      <td>66.0</td>\n",
       "      <td>86.0</td>\n",
       "      <td>1</td>\n",
       "    </tr>\n",
       "    <tr>\n",
       "      <th>4234</th>\n",
       "      <td>1</td>\n",
       "      <td>51</td>\n",
       "      <td>3.0</td>\n",
       "      <td>1</td>\n",
       "      <td>43.0</td>\n",
       "      <td>0.0</td>\n",
       "      <td>0</td>\n",
       "      <td>0</td>\n",
       "      <td>0</td>\n",
       "      <td>207.0</td>\n",
       "      <td>126.5</td>\n",
       "      <td>80.0</td>\n",
       "      <td>19.71</td>\n",
       "      <td>65.0</td>\n",
       "      <td>68.0</td>\n",
       "      <td>0</td>\n",
       "    </tr>\n",
       "    <tr>\n",
       "      <th>4235</th>\n",
       "      <td>0</td>\n",
       "      <td>48</td>\n",
       "      <td>2.0</td>\n",
       "      <td>1</td>\n",
       "      <td>20.0</td>\n",
       "      <td>NaN</td>\n",
       "      <td>0</td>\n",
       "      <td>0</td>\n",
       "      <td>0</td>\n",
       "      <td>248.0</td>\n",
       "      <td>131.0</td>\n",
       "      <td>72.0</td>\n",
       "      <td>22.00</td>\n",
       "      <td>84.0</td>\n",
       "      <td>86.0</td>\n",
       "      <td>0</td>\n",
       "    </tr>\n",
       "    <tr>\n",
       "      <th>4236</th>\n",
       "      <td>0</td>\n",
       "      <td>44</td>\n",
       "      <td>1.0</td>\n",
       "      <td>1</td>\n",
       "      <td>15.0</td>\n",
       "      <td>0.0</td>\n",
       "      <td>0</td>\n",
       "      <td>0</td>\n",
       "      <td>0</td>\n",
       "      <td>210.0</td>\n",
       "      <td>126.5</td>\n",
       "      <td>87.0</td>\n",
       "      <td>19.16</td>\n",
       "      <td>86.0</td>\n",
       "      <td>NaN</td>\n",
       "      <td>0</td>\n",
       "    </tr>\n",
       "    <tr>\n",
       "      <th>4237</th>\n",
       "      <td>0</td>\n",
       "      <td>52</td>\n",
       "      <td>2.0</td>\n",
       "      <td>0</td>\n",
       "      <td>0.0</td>\n",
       "      <td>0.0</td>\n",
       "      <td>0</td>\n",
       "      <td>0</td>\n",
       "      <td>0</td>\n",
       "      <td>269.0</td>\n",
       "      <td>133.5</td>\n",
       "      <td>83.0</td>\n",
       "      <td>21.47</td>\n",
       "      <td>80.0</td>\n",
       "      <td>107.0</td>\n",
       "      <td>0</td>\n",
       "    </tr>\n",
       "  </tbody>\n",
       "</table>\n",
       "<p>4238 rows × 16 columns</p>\n",
       "</div>"
      ],
      "text/plain": [
       "      male  age  education  currentSmoker  cigsPerDay  BPMeds  \\\n",
       "0        1   39        4.0              0         0.0     0.0   \n",
       "1        0   46        2.0              0         0.0     0.0   \n",
       "2        1   48        1.0              1        20.0     0.0   \n",
       "3        0   61        3.0              1        30.0     0.0   \n",
       "4        0   46        3.0              1        23.0     0.0   \n",
       "...    ...  ...        ...            ...         ...     ...   \n",
       "4233     1   50        1.0              1         1.0     0.0   \n",
       "4234     1   51        3.0              1        43.0     0.0   \n",
       "4235     0   48        2.0              1        20.0     NaN   \n",
       "4236     0   44        1.0              1        15.0     0.0   \n",
       "4237     0   52        2.0              0         0.0     0.0   \n",
       "\n",
       "      prevalentStroke  prevalentHyp  diabetes  totChol  sysBP  diaBP    BMI  \\\n",
       "0                   0             0         0    195.0  106.0   70.0  26.97   \n",
       "1                   0             0         0    250.0  121.0   81.0  28.73   \n",
       "2                   0             0         0    245.0  127.5   80.0  25.34   \n",
       "3                   0             1         0    225.0  150.0   95.0  28.58   \n",
       "4                   0             0         0    285.0  130.0   84.0  23.10   \n",
       "...               ...           ...       ...      ...    ...    ...    ...   \n",
       "4233                0             1         0    313.0  179.0   92.0  25.97   \n",
       "4234                0             0         0    207.0  126.5   80.0  19.71   \n",
       "4235                0             0         0    248.0  131.0   72.0  22.00   \n",
       "4236                0             0         0    210.0  126.5   87.0  19.16   \n",
       "4237                0             0         0    269.0  133.5   83.0  21.47   \n",
       "\n",
       "      heartRate  glucose  TenYearCHD  \n",
       "0          80.0     77.0           0  \n",
       "1          95.0     76.0           0  \n",
       "2          75.0     70.0           0  \n",
       "3          65.0    103.0           1  \n",
       "4          85.0     85.0           0  \n",
       "...         ...      ...         ...  \n",
       "4233       66.0     86.0           1  \n",
       "4234       65.0     68.0           0  \n",
       "4235       84.0     86.0           0  \n",
       "4236       86.0      NaN           0  \n",
       "4237       80.0    107.0           0  \n",
       "\n",
       "[4238 rows x 16 columns]"
      ]
     },
     "execution_count": 3,
     "metadata": {},
     "output_type": "execute_result"
    }
   ],
   "source": [
    "framingham"
   ]
  },
  {
   "cell_type": "markdown",
   "metadata": {},
   "source": [
    "### Statistica descrittiva e studio del dataset"
   ]
  },
  {
   "cell_type": "markdown",
   "metadata": {},
   "source": [
    "#### Verifico i type delle colonne"
   ]
  },
  {
   "cell_type": "code",
   "execution_count": 4,
   "metadata": {},
   "outputs": [
    {
     "name": "stdout",
     "output_type": "stream",
     "text": [
      "<class 'pandas.core.frame.DataFrame'>\n",
      "RangeIndex: 4238 entries, 0 to 4237\n",
      "Data columns (total 16 columns):\n",
      " #   Column           Non-Null Count  Dtype  \n",
      "---  ------           --------------  -----  \n",
      " 0   male             4238 non-null   int64  \n",
      " 1   age              4238 non-null   int64  \n",
      " 2   education        4133 non-null   float64\n",
      " 3   currentSmoker    4238 non-null   int64  \n",
      " 4   cigsPerDay       4209 non-null   float64\n",
      " 5   BPMeds           4185 non-null   float64\n",
      " 6   prevalentStroke  4238 non-null   int64  \n",
      " 7   prevalentHyp     4238 non-null   int64  \n",
      " 8   diabetes         4238 non-null   int64  \n",
      " 9   totChol          4188 non-null   float64\n",
      " 10  sysBP            4238 non-null   float64\n",
      " 11  diaBP            4238 non-null   float64\n",
      " 12  BMI              4219 non-null   float64\n",
      " 13  heartRate        4237 non-null   float64\n",
      " 14  glucose          3850 non-null   float64\n",
      " 15  TenYearCHD       4238 non-null   int64  \n",
      "dtypes: float64(9), int64(7)\n",
      "memory usage: 529.9 KB\n"
     ]
    }
   ],
   "source": [
    "framingham.info()"
   ]
  },
  {
   "cell_type": "code",
   "execution_count": 5,
   "metadata": {},
   "outputs": [],
   "source": [
    "bool_features = ['male', 'currentSmoker', 'BPMeds', 'prevalentStroke', 'prevalentHyp', 'diabetes', 'TenYearCHD']\n",
    "for e in bool_features:\n",
    "    framingham[e]=framingham[e].astype('bool')"
   ]
  },
  {
   "cell_type": "markdown",
   "metadata": {},
   "source": [
    "#### Valori nulli"
   ]
  },
  {
   "cell_type": "code",
   "execution_count": 6,
   "metadata": {},
   "outputs": [
    {
     "name": "stdout",
     "output_type": "stream",
     "text": [
      "male = 0\n",
      "age = 0\n",
      "education = 105\n",
      "currentSmoker = 0\n",
      "cigsPerDay = 29\n",
      "BPMeds = 0\n",
      "prevalentStroke = 0\n",
      "prevalentHyp = 0\n",
      "diabetes = 0\n",
      "totChol = 50\n",
      "sysBP = 0\n",
      "diaBP = 0\n",
      "BMI = 19\n",
      "heartRate = 1\n",
      "glucose = 388\n",
      "TenYearCHD = 0\n"
     ]
    }
   ],
   "source": [
    "for column in framingham.columns:\n",
    "    print(column + ' = ' + str(framingham[column].isna().sum())) "
   ]
  },
  {
   "cell_type": "markdown",
   "metadata": {},
   "source": [
    "E' necessario prendere una decisione sul trattamento dei valori nulli:\n",
    " - non intervenire e lasciare il dataset così com'è\n",
    " - fillare i valori nulli con la media/mediana o altri valori che influiscano il meno possibile sulla distribuzione\n",
    " - rimuovere l'intera riga"
   ]
  },
  {
   "cell_type": "markdown",
   "metadata": {},
   "source": [
    "#### Distribuzione variabili continue"
   ]
  },
  {
   "cell_type": "code",
   "execution_count": 7,
   "metadata": {},
   "outputs": [
    {
     "data": {
      "text/plain": [
       "['education',\n",
       " 'glucose',\n",
       " 'BMI',\n",
       " 'totChol',\n",
       " 'age',\n",
       " 'heartRate',\n",
       " 'diaBP',\n",
       " 'cigsPerDay',\n",
       " 'sysBP']"
      ]
     },
     "execution_count": 7,
     "metadata": {},
     "output_type": "execute_result"
    }
   ],
   "source": [
    "# Ricavo la lista delle variabili continue\n",
    "continuous_features = list(set(framingham.columns) - set(bool_features))\n",
    "continuous_features"
   ]
  },
  {
   "cell_type": "code",
   "execution_count": 8,
   "metadata": {
    "scrolled": true
   },
   "outputs": [
    {
     "data": {
      "image/png": "[encoded data removed]",
      "text/plain": [
       "<Figure size 720x360 with 1 Axes>"
      ]
     },
     "metadata": {
      "needs_background": "light"
     },
     "output_type": "display_data"
    },
    {
     "data": {
      "image/png": "[encoded data removed]",
      "text/plain": [
       "<Figure size 720x360 with 1 Axes>"
      ]
     },
     "metadata": {
      "needs_background": "light"
     },
     "output_type": "display_data"
    },
    {
     "data": {
      "image/png": "[encoded data removed]",
      "text/plain": [
       "<Figure size 720x360 with 1 Axes>"
      ]
     },
     "metadata": {
      "needs_background": "light"
     },
     "output_type": "display_data"
    },
    {
     "data": {
      "image/png": "[encoded data removed]",
      "text/plain": [
       "<Figure size 720x360 with 1 Axes>"
      ]
     },
     "metadata": {
      "needs_background": "light"
     },
     "output_type": "display_data"
    },
    {
     "data": {
      "image/png": "[encoded data removed]",
      "text/plain": [
       "<Figure size 720x360 with 1 Axes>"
      ]
     },
     "metadata": {
      "needs_background": "light"
     },
     "output_type": "display_data"
    },
    {
     "data": {
      "image/png": "[encoded data removed]",
      "text/plain": [
       "<Figure size 720x360 with 1 Axes>"
      ]
     },
     "metadata": {
      "needs_background": "light"
     },
     "output_type": "display_data"
    },
    {
     "data": {
      "image/png": "[encoded data removed]",
      "text/plain": [
       "<Figure size 720x360 with 1 Axes>"
      ]
     },
     "metadata": {
      "needs_background": "light"
     },
     "output_type": "display_data"
    },
    {
     "data": {
      "image/png": "[encoded data removed]",
      "text/plain": [
       "<Figure size 720x360 with 1 Axes>"
      ]
     },
     "metadata": {
      "needs_background": "light"
     },
     "output_type": "display_data"
    },
    {
     "data": {
      "image/png": "[encoded data removed]",
      "text/plain": [
       "<Figure size 720x360 with 1 Axes>"
      ]
     },
     "metadata": {
      "needs_background": "light"
     },
     "output_type": "display_data"
    }
   ],
   "source": []
  },
  {
   "cell_type": "markdown",
   "metadata": {},
   "source": [
    "#### Distribuzione variabili booleane"
   ]
  },
  {
   "cell_type": "code",
   "execution_count": 9,
   "metadata": {
    "scrolled": false
   },
   "outputs": [
    {
     "data": {
      "image/png": "[encoded data removed]",
      "text/plain": [
       "<Figure size 720x360 with 1 Axes>"
      ]
     },
     "metadata": {
      "needs_background": "light"
     },
     "output_type": "display_data"
    },
    {
     "data": {
      "image/png": "[encoded data removed]",
      "text/plain": [
       "<Figure size 720x360 with 1 Axes>"
      ]
     },
     "metadata": {
      "needs_background": "light"
     },
     "output_type": "display_data"
    },
    {
     "data": {
      "image/png": "[encoded data removed]",
      "text/plain": [
       "<Figure size 720x360 with 1 Axes>"
      ]
     },
     "metadata": {
      "needs_background": "light"
     },
     "output_type": "display_data"
    },
    {
     "data": {
      "image/png": "[encoded data removed]",
      "text/plain": [
       "<Figure size 720x360 with 1 Axes>"
      ]
     },
     "metadata": {
      "needs_background": "light"
     },
     "output_type": "display_data"
    },
    {
     "data": {
      "image/png": "[encoded data removed]",
      "text/plain": [
       "<Figure size 720x360 with 1 Axes>"
      ]
     },
     "metadata": {
      "needs_background": "light"
     },
     "output_type": "display_data"
    },
    {
     "data": {
      "image/png": "[encoded data removed]",
      "text/plain": [
       "<Figure size 720x360 with 1 Axes>"
      ]
     },
     "metadata": {
      "needs_background": "light"
     },
     "output_type": "display_data"
    },
    {
     "data": {
      "image/png": "[encoded data removed]",
      "text/plain": [
       "<Figure size 720x360 with 1 Axes>"
      ]
     },
     "metadata": {
      "needs_background": "light"
     },
     "output_type": "display_data"
    }
   ],
   "source": [
    "for e in bool_features:\n",
    "    fig, ax = plt.subplots(figsize = (10,5))\n",
    "    plt.title('Conteggio dei valori True e False per la colonna ' + e)\n",
    "    framingham[e].value_counts().plot(kind='barh', stacked=True)"
   ]
  },
  {
   "cell_type": "markdown",
   "metadata": {},
   "source": [
    "### Correlazione"
   ]
  },
  {
   "cell_type": "code",
   "execution_count": 10,
   "metadata": {},
   "outputs": [
    {
     "data": {
      "text/html": [
       "<style type=\"text/css\">\n",
       "#T_aedb0_row0_col0, #T_aedb0_row1_col1, #T_aedb0_row2_col2, #T_aedb0_row3_col3, #T_aedb0_row4_col4, #T_aedb0_row5_col5, #T_aedb0_row6_col6, #T_aedb0_row7_col7, #T_aedb0_row8_col8, #T_aedb0_row9_col9, #T_aedb0_row10_col10, #T_aedb0_row11_col11, #T_aedb0_row12_col12, #T_aedb0_row13_col13, #T_aedb0_row14_col14, #T_aedb0_row15_col15 {\n",
       "  background-color: #b40426;\n",
       "  color: #f1f1f1;\n",
       "}\n",
       "#T_aedb0_row0_col1, #T_aedb0_row0_col11, #T_aedb0_row4_col2, #T_aedb0_row6_col3, #T_aedb0_row10_col8, #T_aedb0_row13_col9 {\n",
       "  background-color: #6a8bef;\n",
       "  color: #f1f1f1;\n",
       "}\n",
       "#T_aedb0_row0_col2, #T_aedb0_row3_col2, #T_aedb0_row6_col5, #T_aedb0_row11_col0 {\n",
       "  background-color: #6c8ff1;\n",
       "  color: #f1f1f1;\n",
       "}\n",
       "#T_aedb0_row0_col3 {\n",
       "  background-color: #abc8fd;\n",
       "  color: #000000;\n",
       "}\n",
       "#T_aedb0_row0_col4, #T_aedb0_row7_col1 {\n",
       "  background-color: #c9d7f0;\n",
       "  color: #000000;\n",
       "}\n",
       "#T_aedb0_row0_col5, #T_aedb0_row0_col9, #T_aedb0_row0_col13, #T_aedb0_row1_col2, #T_aedb0_row1_col3, #T_aedb0_row1_col4, #T_aedb0_row2_col6, #T_aedb0_row2_col10, #T_aedb0_row2_col15, #T_aedb0_row3_col1, #T_aedb0_row3_col6, #T_aedb0_row3_col7, #T_aedb0_row3_col8, #T_aedb0_row3_col10, #T_aedb0_row3_col11, #T_aedb0_row3_col12, #T_aedb0_row3_col14, #T_aedb0_row4_col6, #T_aedb0_row4_col14, #T_aedb0_row13_col0 {\n",
       "  background-color: #3b4cc0;\n",
       "  color: #f1f1f1;\n",
       "}\n",
       "#T_aedb0_row0_col6, #T_aedb0_row10_col2 {\n",
       "  background-color: #4358cb;\n",
       "  color: #f1f1f1;\n",
       "}\n",
       "#T_aedb0_row0_col7, #T_aedb0_row6_col0, #T_aedb0_row9_col14, #T_aedb0_row14_col5 {\n",
       "  background-color: #5977e3;\n",
       "  color: #f1f1f1;\n",
       "}\n",
       "#T_aedb0_row0_col8, #T_aedb0_row2_col13 {\n",
       "  background-color: #4b64d5;\n",
       "  color: #f1f1f1;\n",
       "}\n",
       "#T_aedb0_row0_col10, #T_aedb0_row12_col4 {\n",
       "  background-color: #5470de;\n",
       "  color: #f1f1f1;\n",
       "}\n",
       "#T_aedb0_row0_col12, #T_aedb0_row5_col12, #T_aedb0_row8_col10, #T_aedb0_row11_col5 {\n",
       "  background-color: #80a3fa;\n",
       "  color: #f1f1f1;\n",
       "}\n",
       "#T_aedb0_row0_col14, #T_aedb0_row12_col6 {\n",
       "  background-color: #4c66d6;\n",
       "  color: #f1f1f1;\n",
       "}\n",
       "#T_aedb0_row0_col15, #T_aedb0_row5_col3, #T_aedb0_row5_col9, #T_aedb0_row6_col4, #T_aedb0_row12_col5, #T_aedb0_row15_col5, #T_aedb0_row15_col8 {\n",
       "  background-color: #6485ec;\n",
       "  color: #f1f1f1;\n",
       "}\n",
       "#T_aedb0_row1_col0, #T_aedb0_row9_col8 {\n",
       "  background-color: #536edd;\n",
       "  color: #f1f1f1;\n",
       "}\n",
       "#T_aedb0_row1_col5 {\n",
       "  background-color: #7597f6;\n",
       "  color: #f1f1f1;\n",
       "}\n",
       "#T_aedb0_row1_col6, #T_aedb0_row5_col8, #T_aedb0_row6_col13, #T_aedb0_row10_col4, #T_aedb0_row10_col6, #T_aedb0_row11_col2, #T_aedb0_row11_col3, #T_aedb0_row13_col8 {\n",
       "  background-color: #5572df;\n",
       "  color: #f1f1f1;\n",
       "}\n",
       "#T_aedb0_row1_col7 {\n",
       "  background-color: #b7cff9;\n",
       "  color: #000000;\n",
       "}\n",
       "#T_aedb0_row1_col8, #T_aedb0_row5_col6, #T_aedb0_row6_col11, #T_aedb0_row7_col14, #T_aedb0_row8_col3, #T_aedb0_row9_col3, #T_aedb0_row9_col4, #T_aedb0_row12_col14 {\n",
       "  background-color: #6687ed;\n",
       "  color: #f1f1f1;\n",
       "}\n",
       "#T_aedb0_row1_col9 {\n",
       "  background-color: #a2c1ff;\n",
       "  color: #000000;\n",
       "}\n",
       "#T_aedb0_row1_col10 {\n",
       "  background-color: #d3dbe7;\n",
       "  color: #000000;\n",
       "}\n",
       "#T_aedb0_row1_col11, #T_aedb0_row3_col0, #T_aedb0_row5_col1 {\n",
       "  background-color: #98b9ff;\n",
       "  color: #000000;\n",
       "}\n",
       "#T_aedb0_row1_col12, #T_aedb0_row8_col1, #T_aedb0_row10_col9, #T_aedb0_row13_col11 {\n",
       "  background-color: #90b2fe;\n",
       "  color: #000000;\n",
       "}\n",
       "#T_aedb0_row1_col13, #T_aedb0_row7_col3, #T_aedb0_row11_col8, #T_aedb0_row15_col6 {\n",
       "  background-color: #5673e0;\n",
       "  color: #f1f1f1;\n",
       "}\n",
       "#T_aedb0_row1_col14, #T_aedb0_row2_col4, #T_aedb0_row4_col13, #T_aedb0_row14_col15 {\n",
       "  background-color: #7093f3;\n",
       "  color: #f1f1f1;\n",
       "}\n",
       "#T_aedb0_row1_col15 {\n",
       "  background-color: #92b4fe;\n",
       "  color: #000000;\n",
       "}\n",
       "#T_aedb0_row2_col0, #T_aedb0_row8_col0 {\n",
       "  background-color: #5f7fe8;\n",
       "  color: #f1f1f1;\n",
       "}\n",
       "#T_aedb0_row2_col1, #T_aedb0_row2_col11, #T_aedb0_row4_col9, #T_aedb0_row8_col6, #T_aedb0_row9_col0 {\n",
       "  background-color: #465ecf;\n",
       "  color: #f1f1f1;\n",
       "}\n",
       "#T_aedb0_row2_col3, #T_aedb0_row10_col14, #T_aedb0_row11_col15, #T_aedb0_row14_col13 {\n",
       "  background-color: #779af7;\n",
       "  color: #f1f1f1;\n",
       "}\n",
       "#T_aedb0_row2_col5, #T_aedb0_row2_col9, #T_aedb0_row4_col11 {\n",
       "  background-color: #485fd1;\n",
       "  color: #f1f1f1;\n",
       "}\n",
       "#T_aedb0_row2_col7, #T_aedb0_row4_col1, #T_aedb0_row4_col5, #T_aedb0_row13_col6 {\n",
       "  background-color: #3f53c6;\n",
       "  color: #f1f1f1;\n",
       "}\n",
       "#T_aedb0_row2_col8, #T_aedb0_row4_col8 {\n",
       "  background-color: #3c4ec2;\n",
       "  color: #f1f1f1;\n",
       "}\n",
       "#T_aedb0_row2_col12, #T_aedb0_row12_col2 {\n",
       "  background-color: #4257c9;\n",
       "  color: #f1f1f1;\n",
       "}\n",
       "#T_aedb0_row2_col14, #T_aedb0_row3_col9 {\n",
       "  background-color: #4055c8;\n",
       "  color: #f1f1f1;\n",
       "}\n",
       "#T_aedb0_row3_col4, #T_aedb0_row10_col11 {\n",
       "  background-color: #ec8165;\n",
       "  color: #f1f1f1;\n",
       "}\n",
       "#T_aedb0_row3_col5 {\n",
       "  background-color: #3e51c5;\n",
       "  color: #f1f1f1;\n",
       "}\n",
       "#T_aedb0_row3_col13, #T_aedb0_row6_col7 {\n",
       "  background-color: #6e90f2;\n",
       "  color: #f1f1f1;\n",
       "}\n",
       "#T_aedb0_row3_col15, #T_aedb0_row10_col3 {\n",
       "  background-color: #4f69d9;\n",
       "  color: #f1f1f1;\n",
       "}\n",
       "#T_aedb0_row4_col0 {\n",
       "  background-color: #bcd2f7;\n",
       "  color: #000000;\n",
       "}\n",
       "#T_aedb0_row4_col3, #T_aedb0_row11_col10 {\n",
       "  background-color: #ec7f63;\n",
       "  color: #f1f1f1;\n",
       "}\n",
       "#T_aedb0_row4_col7, #T_aedb0_row9_col6 {\n",
       "  background-color: #445acc;\n",
       "  color: #f1f1f1;\n",
       "}\n",
       "#T_aedb0_row4_col10, #T_aedb0_row12_col3 {\n",
       "  background-color: #455cce;\n",
       "  color: #f1f1f1;\n",
       "}\n",
       "#T_aedb0_row4_col12, #T_aedb0_row6_col9 {\n",
       "  background-color: #4e68d8;\n",
       "  color: #f1f1f1;\n",
       "}\n",
       "#T_aedb0_row4_col15, #T_aedb0_row7_col0, #T_aedb0_row7_col4, #T_aedb0_row7_col6, #T_aedb0_row8_col2, #T_aedb0_row14_col9 {\n",
       "  background-color: #5b7ae5;\n",
       "  color: #f1f1f1;\n",
       "}\n",
       "#T_aedb0_row5_col0, #T_aedb0_row6_col8 {\n",
       "  background-color: #4961d2;\n",
       "  color: #f1f1f1;\n",
       "}\n",
       "#T_aedb0_row5_col2, #T_aedb0_row5_col4, #T_aedb0_row9_col5, #T_aedb0_row12_col8 {\n",
       "  background-color: #6282ea;\n",
       "  color: #f1f1f1;\n",
       "}\n",
       "#T_aedb0_row5_col7 {\n",
       "  background-color: #9fbfff;\n",
       "  color: #000000;\n",
       "}\n",
       "#T_aedb0_row5_col10 {\n",
       "  background-color: #a3c2fe;\n",
       "  color: #000000;\n",
       "}\n",
       "#T_aedb0_row5_col11, #T_aedb0_row9_col7, #T_aedb0_row9_col12 {\n",
       "  background-color: #8badfd;\n",
       "  color: #000000;\n",
       "}\n",
       "#T_aedb0_row5_col13, #T_aedb0_row7_col8, #T_aedb0_row11_col4, #T_aedb0_row11_col14 {\n",
       "  background-color: #5e7de7;\n",
       "  color: #f1f1f1;\n",
       "}\n",
       "#T_aedb0_row5_col14, #T_aedb0_row13_col2, #T_aedb0_row15_col2 {\n",
       "  background-color: #5875e1;\n",
       "  color: #f1f1f1;\n",
       "}\n",
       "#T_aedb0_row5_col15, #T_aedb0_row8_col4, #T_aedb0_row9_col15, #T_aedb0_row14_col3 {\n",
       "  background-color: #6384eb;\n",
       "  color: #f1f1f1;\n",
       "}\n",
       "#T_aedb0_row6_col1, #T_aedb0_row13_col4 {\n",
       "  background-color: #84a7fc;\n",
       "  color: #f1f1f1;\n",
       "}\n",
       "#T_aedb0_row6_col2, #T_aedb0_row6_col15, #T_aedb0_row14_col0, #T_aedb0_row14_col2, #T_aedb0_row14_col4 {\n",
       "  background-color: #5d7ce6;\n",
       "  color: #f1f1f1;\n",
       "}\n",
       "#T_aedb0_row6_col10, #T_aedb0_row6_col12, #T_aedb0_row8_col7, #T_aedb0_row12_col13, #T_aedb0_row13_col1 {\n",
       "  background-color: #6f92f3;\n",
       "  color: #f1f1f1;\n",
       "}\n",
       "#T_aedb0_row6_col14, #T_aedb0_row7_col2, #T_aedb0_row10_col0, #T_aedb0_row13_col5, #T_aedb0_row13_col15 {\n",
       "  background-color: #506bda;\n",
       "  color: #f1f1f1;\n",
       "}\n",
       "#T_aedb0_row7_col5, #T_aedb0_row13_col10, #T_aedb0_row14_col1 {\n",
       "  background-color: #96b7ff;\n",
       "  color: #000000;\n",
       "}\n",
       "#T_aedb0_row7_col9, #T_aedb0_row7_col15, #T_aedb0_row11_col9 {\n",
       "  background-color: #82a6fb;\n",
       "  color: #f1f1f1;\n",
       "}\n",
       "#T_aedb0_row7_col10 {\n",
       "  background-color: #f5a081;\n",
       "  color: #000000;\n",
       "}\n",
       "#T_aedb0_row7_col11 {\n",
       "  background-color: #f7bca1;\n",
       "  color: #000000;\n",
       "}\n",
       "#T_aedb0_row7_col12 {\n",
       "  background-color: #c0d4f5;\n",
       "  color: #000000;\n",
       "}\n",
       "#T_aedb0_row7_col13 {\n",
       "  background-color: #88abfd;\n",
       "  color: #000000;\n",
       "}\n",
       "#T_aedb0_row8_col5, #T_aedb0_row8_col9 {\n",
       "  background-color: #5a78e4;\n",
       "  color: #f1f1f1;\n",
       "}\n",
       "#T_aedb0_row8_col11, #T_aedb0_row8_col15, #T_aedb0_row15_col9 {\n",
       "  background-color: #6788ee;\n",
       "  color: #f1f1f1;\n",
       "}\n",
       "#T_aedb0_row8_col12, #T_aedb0_row14_col12 {\n",
       "  background-color: #81a4fb;\n",
       "  color: #f1f1f1;\n",
       "}\n",
       "#T_aedb0_row8_col13, #T_aedb0_row13_col14 {\n",
       "  background-color: #688aef;\n",
       "  color: #f1f1f1;\n",
       "}\n",
       "#T_aedb0_row8_col14 {\n",
       "  background-color: #f5c0a7;\n",
       "  color: #000000;\n",
       "}\n",
       "#T_aedb0_row9_col1 {\n",
       "  background-color: #bed2f6;\n",
       "  color: #000000;\n",
       "}\n",
       "#T_aedb0_row9_col2, #T_aedb0_row12_col15, #T_aedb0_row15_col13 {\n",
       "  background-color: #6180e9;\n",
       "  color: #f1f1f1;\n",
       "}\n",
       "#T_aedb0_row9_col10 {\n",
       "  background-color: #9ebeff;\n",
       "  color: #000000;\n",
       "}\n",
       "#T_aedb0_row9_col11 {\n",
       "  background-color: #8caffe;\n",
       "  color: #000000;\n",
       "}\n",
       "#T_aedb0_row9_col13, #T_aedb0_row15_col0 {\n",
       "  background-color: #7699f6;\n",
       "  color: #f1f1f1;\n",
       "}\n",
       "#T_aedb0_row10_col1 {\n",
       "  background-color: #dddcdc;\n",
       "  color: #000000;\n",
       "}\n",
       "#T_aedb0_row10_col5 {\n",
       "  background-color: #94b6ff;\n",
       "  color: #000000;\n",
       "}\n",
       "#T_aedb0_row10_col7 {\n",
       "  background-color: #f6a385;\n",
       "  color: #000000;\n",
       "}\n",
       "#T_aedb0_row10_col12 {\n",
       "  background-color: #c7d7f0;\n",
       "  color: #000000;\n",
       "}\n",
       "#T_aedb0_row10_col13, #T_aedb0_row11_col13 {\n",
       "  background-color: #93b5fe;\n",
       "  color: #000000;\n",
       "}\n",
       "#T_aedb0_row10_col15, #T_aedb0_row15_col7 {\n",
       "  background-color: #8fb1fe;\n",
       "  color: #000000;\n",
       "}\n",
       "#T_aedb0_row11_col1 {\n",
       "  background-color: #aec9fc;\n",
       "  color: #000000;\n",
       "}\n",
       "#T_aedb0_row11_col6 {\n",
       "  background-color: #516ddb;\n",
       "  color: #f1f1f1;\n",
       "}\n",
       "#T_aedb0_row11_col7 {\n",
       "  background-color: #f6bda2;\n",
       "  color: #000000;\n",
       "}\n",
       "#T_aedb0_row11_col12 {\n",
       "  background-color: #d4dbe6;\n",
       "  color: #000000;\n",
       "}\n",
       "#T_aedb0_row12_col0 {\n",
       "  background-color: #7396f5;\n",
       "  color: #f1f1f1;\n",
       "}\n",
       "#T_aedb0_row12_col1 {\n",
       "  background-color: #9abbff;\n",
       "  color: #000000;\n",
       "}\n",
       "#T_aedb0_row12_col7 {\n",
       "  background-color: #b5cdfa;\n",
       "  color: #000000;\n",
       "}\n",
       "#T_aedb0_row12_col9, #T_aedb0_row14_col7, #T_aedb0_row15_col14 {\n",
       "  background-color: #7295f4;\n",
       "  color: #f1f1f1;\n",
       "}\n",
       "#T_aedb0_row12_col10 {\n",
       "  background-color: #c1d4f4;\n",
       "  color: #000000;\n",
       "}\n",
       "#T_aedb0_row12_col11 {\n",
       "  background-color: #ccd9ed;\n",
       "  color: #000000;\n",
       "}\n",
       "#T_aedb0_row13_col3, #T_aedb0_row13_col7, #T_aedb0_row15_col11 {\n",
       "  background-color: #85a8fc;\n",
       "  color: #f1f1f1;\n",
       "}\n",
       "#T_aedb0_row13_col12 {\n",
       "  background-color: #7b9ff9;\n",
       "  color: #f1f1f1;\n",
       "}\n",
       "#T_aedb0_row14_col6 {\n",
       "  background-color: #4a63d3;\n",
       "  color: #f1f1f1;\n",
       "}\n",
       "#T_aedb0_row14_col8 {\n",
       "  background-color: #f5c1a9;\n",
       "  color: #000000;\n",
       "}\n",
       "#T_aedb0_row14_col10 {\n",
       "  background-color: #89acfd;\n",
       "  color: #000000;\n",
       "}\n",
       "#T_aedb0_row14_col11 {\n",
       "  background-color: #6b8df0;\n",
       "  color: #f1f1f1;\n",
       "}\n",
       "#T_aedb0_row15_col1 {\n",
       "  background-color: #b3cdfb;\n",
       "  color: #000000;\n",
       "}\n",
       "#T_aedb0_row15_col3 {\n",
       "  background-color: #799cf8;\n",
       "  color: #f1f1f1;\n",
       "}\n",
       "#T_aedb0_row15_col4, #T_aedb0_row15_col12 {\n",
       "  background-color: #7ea1fa;\n",
       "  color: #f1f1f1;\n",
       "}\n",
       "#T_aedb0_row15_col10 {\n",
       "  background-color: #a1c0ff;\n",
       "  color: #000000;\n",
       "}\n",
       "</style>\n",
       "<table id=\"T_aedb0\">\n",
       "  <thead>\n",
       "    <tr>\n",
       "      <th class=\"blank level0\" >&nbsp;</th>\n",
       "      <th id=\"T_aedb0_level0_col0\" class=\"col_heading level0 col0\" >male</th>\n",
       "      <th id=\"T_aedb0_level0_col1\" class=\"col_heading level0 col1\" >age</th>\n",
       "      <th id=\"T_aedb0_level0_col2\" class=\"col_heading level0 col2\" >education</th>\n",
       "      <th id=\"T_aedb0_level0_col3\" class=\"col_heading level0 col3\" >currentSmoker</th>\n",
       "      <th id=\"T_aedb0_level0_col4\" class=\"col_heading level0 col4\" >cigsPerDay</th>\n",
       "      <th id=\"T_aedb0_level0_col5\" class=\"col_heading level0 col5\" >BPMeds</th>\n",
       "      <th id=\"T_aedb0_level0_col6\" class=\"col_heading level0 col6\" >prevalentStroke</th>\n",
       "      <th id=\"T_aedb0_level0_col7\" class=\"col_heading level0 col7\" >prevalentHyp</th>\n",
       "      <th id=\"T_aedb0_level0_col8\" class=\"col_heading level0 col8\" >diabetes</th>\n",
       "      <th id=\"T_aedb0_level0_col9\" class=\"col_heading level0 col9\" >totChol</th>\n",
       "      <th id=\"T_aedb0_level0_col10\" class=\"col_heading level0 col10\" >sysBP</th>\n",
       "      <th id=\"T_aedb0_level0_col11\" class=\"col_heading level0 col11\" >diaBP</th>\n",
       "      <th id=\"T_aedb0_level0_col12\" class=\"col_heading level0 col12\" >BMI</th>\n",
       "      <th id=\"T_aedb0_level0_col13\" class=\"col_heading level0 col13\" >heartRate</th>\n",
       "      <th id=\"T_aedb0_level0_col14\" class=\"col_heading level0 col14\" >glucose</th>\n",
       "      <th id=\"T_aedb0_level0_col15\" class=\"col_heading level0 col15\" >TenYearCHD</th>\n",
       "    </tr>\n",
       "  </thead>\n",
       "  <tbody>\n",
       "    <tr>\n",
       "      <th id=\"T_aedb0_level0_row0\" class=\"row_heading level0 row0\" >male</th>\n",
       "      <td id=\"T_aedb0_row0_col0\" class=\"data row0 col0\" >1.000000</td>\n",
       "      <td id=\"T_aedb0_row0_col1\" class=\"data row0 col1\" >-0.028979</td>\n",
       "      <td id=\"T_aedb0_row0_col2\" class=\"data row0 col2\" >0.017352</td>\n",
       "      <td id=\"T_aedb0_row0_col3\" class=\"data row0 col3\" >0.197596</td>\n",
       "      <td id=\"T_aedb0_row0_col4\" class=\"data row0 col4\" >0.317930</td>\n",
       "      <td id=\"T_aedb0_row0_col5\" class=\"data row0 col5\" >-0.061888</td>\n",
       "      <td id=\"T_aedb0_row0_col6\" class=\"data row0 col6\" >-0.004546</td>\n",
       "      <td id=\"T_aedb0_row0_col7\" class=\"data row0 col7\" >0.005313</td>\n",
       "      <td id=\"T_aedb0_row0_col8\" class=\"data row0 col8\" >0.015708</td>\n",
       "      <td id=\"T_aedb0_row0_col9\" class=\"data row0 col9\" >-0.070322</td>\n",
       "      <td id=\"T_aedb0_row0_col10\" class=\"data row0 col10\" >-0.035989</td>\n",
       "      <td id=\"T_aedb0_row0_col11\" class=\"data row0 col11\" >0.057933</td>\n",
       "      <td id=\"T_aedb0_row0_col12\" class=\"data row0 col12\" >0.081672</td>\n",
       "      <td id=\"T_aedb0_row0_col13\" class=\"data row0 col13\" >-0.116620</td>\n",
       "      <td id=\"T_aedb0_row0_col14\" class=\"data row0 col14\" >0.006083</td>\n",
       "      <td id=\"T_aedb0_row0_col15\" class=\"data row0 col15\" >0.088428</td>\n",
       "    </tr>\n",
       "    <tr>\n",
       "      <th id=\"T_aedb0_level0_row1\" class=\"row_heading level0 row1\" >age</th>\n",
       "      <td id=\"T_aedb0_row1_col0\" class=\"data row1 col0\" >-0.028979</td>\n",
       "      <td id=\"T_aedb0_row1_col1\" class=\"data row1 col1\" >1.000000</td>\n",
       "      <td id=\"T_aedb0_row1_col2\" class=\"data row1 col2\" >-0.165883</td>\n",
       "      <td id=\"T_aedb0_row1_col3\" class=\"data row1 col3\" >-0.213748</td>\n",
       "      <td id=\"T_aedb0_row1_col4\" class=\"data row1 col4\" >-0.192791</td>\n",
       "      <td id=\"T_aedb0_row1_col5\" class=\"data row1 col5\" >0.130383</td>\n",
       "      <td id=\"T_aedb0_row1_col6\" class=\"data row1 col6\" >0.057655</td>\n",
       "      <td id=\"T_aedb0_row1_col7\" class=\"data row1 col7\" >0.307194</td>\n",
       "      <td id=\"T_aedb0_row1_col8\" class=\"data row1 col8\" >0.101258</td>\n",
       "      <td id=\"T_aedb0_row1_col9\" class=\"data row1 col9\" >0.262131</td>\n",
       "      <td id=\"T_aedb0_row1_col10\" class=\"data row1 col10\" >0.394302</td>\n",
       "      <td id=\"T_aedb0_row1_col11\" class=\"data row1 col11\" >0.206104</td>\n",
       "      <td id=\"T_aedb0_row1_col12\" class=\"data row1 col12\" >0.135800</td>\n",
       "      <td id=\"T_aedb0_row1_col13\" class=\"data row1 col13\" >-0.012823</td>\n",
       "      <td id=\"T_aedb0_row1_col14\" class=\"data row1 col14\" >0.122256</td>\n",
       "      <td id=\"T_aedb0_row1_col15\" class=\"data row1 col15\" >0.225256</td>\n",
       "    </tr>\n",
       "    <tr>\n",
       "      <th id=\"T_aedb0_level0_row2\" class=\"row_heading level0 row2\" >education</th>\n",
       "      <td id=\"T_aedb0_row2_col0\" class=\"data row2 col0\" >0.017352</td>\n",
       "      <td id=\"T_aedb0_row2_col1\" class=\"data row2 col1\" >-0.165883</td>\n",
       "      <td id=\"T_aedb0_row2_col2\" class=\"data row2 col2\" >1.000000</td>\n",
       "      <td id=\"T_aedb0_row2_col3\" class=\"data row2 col3\" >0.018532</td>\n",
       "      <td id=\"T_aedb0_row2_col4\" class=\"data row2 col4\" >0.008085</td>\n",
       "      <td id=\"T_aedb0_row2_col5\" class=\"data row2 col5\" >-0.015759</td>\n",
       "      <td id=\"T_aedb0_row2_col6\" class=\"data row2 col6\" >-0.035112</td>\n",
       "      <td id=\"T_aedb0_row2_col7\" class=\"data row2 col7\" >-0.081970</td>\n",
       "      <td id=\"T_aedb0_row2_col8\" class=\"data row2 col8\" >-0.038680</td>\n",
       "      <td id=\"T_aedb0_row2_col9\" class=\"data row2 col9\" >-0.023115</td>\n",
       "      <td id=\"T_aedb0_row2_col10\" class=\"data row2 col10\" >-0.129631</td>\n",
       "      <td id=\"T_aedb0_row2_col11\" class=\"data row2 col11\" >-0.062316</td>\n",
       "      <td id=\"T_aedb0_row2_col12\" class=\"data row2 col12\" >-0.137504</td>\n",
       "      <td id=\"T_aedb0_row2_col13\" class=\"data row2 col13\" >-0.054206</td>\n",
       "      <td id=\"T_aedb0_row2_col14\" class=\"data row2 col14\" >-0.035721</td>\n",
       "      <td id=\"T_aedb0_row2_col15\" class=\"data row2 col15\" >-0.054059</td>\n",
       "    </tr>\n",
       "    <tr>\n",
       "      <th id=\"T_aedb0_level0_row3\" class=\"row_heading level0 row3\" >currentSmoker</th>\n",
       "      <td id=\"T_aedb0_row3_col0\" class=\"data row3 col0\" >0.197596</td>\n",
       "      <td id=\"T_aedb0_row3_col1\" class=\"data row3 col1\" >-0.213748</td>\n",
       "      <td id=\"T_aedb0_row3_col2\" class=\"data row3 col2\" >0.018532</td>\n",
       "      <td id=\"T_aedb0_row3_col3\" class=\"data row3 col3\" >1.000000</td>\n",
       "      <td id=\"T_aedb0_row3_col4\" class=\"data row3 col4\" >0.769690</td>\n",
       "      <td id=\"T_aedb0_row3_col5\" class=\"data row3 col5\" >-0.048259</td>\n",
       "      <td id=\"T_aedb0_row3_col6\" class=\"data row3 col6\" >-0.032988</td>\n",
       "      <td id=\"T_aedb0_row3_col7\" class=\"data row3 col7\" >-0.103260</td>\n",
       "      <td id=\"T_aedb0_row3_col8\" class=\"data row3 col8\" >-0.044295</td>\n",
       "      <td id=\"T_aedb0_row3_col9\" class=\"data row3 col9\" >-0.046562</td>\n",
       "      <td id=\"T_aedb0_row3_col10\" class=\"data row3 col10\" >-0.130230</td>\n",
       "      <td id=\"T_aedb0_row3_col11\" class=\"data row3 col11\" >-0.107746</td>\n",
       "      <td id=\"T_aedb0_row3_col12\" class=\"data row3 col12\" >-0.167650</td>\n",
       "      <td id=\"T_aedb0_row3_col13\" class=\"data row3 col13\" >0.062356</td>\n",
       "      <td id=\"T_aedb0_row3_col14\" class=\"data row3 col14\" >-0.056826</td>\n",
       "      <td id=\"T_aedb0_row3_col15\" class=\"data row3 col15\" >0.019456</td>\n",
       "    </tr>\n",
       "    <tr>\n",
       "      <th id=\"T_aedb0_level0_row4\" class=\"row_heading level0 row4\" >cigsPerDay</th>\n",
       "      <td id=\"T_aedb0_row4_col0\" class=\"data row4 col0\" >0.317930</td>\n",
       "      <td id=\"T_aedb0_row4_col1\" class=\"data row4 col1\" >-0.192791</td>\n",
       "      <td id=\"T_aedb0_row4_col2\" class=\"data row4 col2\" >0.008085</td>\n",
       "      <td id=\"T_aedb0_row4_col3\" class=\"data row4 col3\" >0.769690</td>\n",
       "      <td id=\"T_aedb0_row4_col4\" class=\"data row4 col4\" >1.000000</td>\n",
       "      <td id=\"T_aedb0_row4_col5\" class=\"data row4 col5\" >-0.042860</td>\n",
       "      <td id=\"T_aedb0_row4_col6\" class=\"data row4 col6\" >-0.032707</td>\n",
       "      <td id=\"T_aedb0_row4_col7\" class=\"data row4 col7\" >-0.066146</td>\n",
       "      <td id=\"T_aedb0_row4_col8\" class=\"data row4 col8\" >-0.037067</td>\n",
       "      <td id=\"T_aedb0_row4_col9\" class=\"data row4 col9\" >-0.026320</td>\n",
       "      <td id=\"T_aedb0_row4_col10\" class=\"data row4 col10\" >-0.088780</td>\n",
       "      <td id=\"T_aedb0_row4_col11\" class=\"data row4 col11\" >-0.056632</td>\n",
       "      <td id=\"T_aedb0_row4_col12\" class=\"data row4 col12\" >-0.092856</td>\n",
       "      <td id=\"T_aedb0_row4_col13\" class=\"data row4 col13\" >0.075157</td>\n",
       "      <td id=\"T_aedb0_row4_col14\" class=\"data row4 col14\" >-0.058960</td>\n",
       "      <td id=\"T_aedb0_row4_col15\" class=\"data row4 col15\" >0.057884</td>\n",
       "    </tr>\n",
       "    <tr>\n",
       "      <th id=\"T_aedb0_level0_row5\" class=\"row_heading level0 row5\" >BPMeds</th>\n",
       "      <td id=\"T_aedb0_row5_col0\" class=\"data row5 col0\" >-0.061888</td>\n",
       "      <td id=\"T_aedb0_row5_col1\" class=\"data row5 col1\" >0.130383</td>\n",
       "      <td id=\"T_aedb0_row5_col2\" class=\"data row5 col2\" >-0.015759</td>\n",
       "      <td id=\"T_aedb0_row5_col3\" class=\"data row5 col3\" >-0.048259</td>\n",
       "      <td id=\"T_aedb0_row5_col4\" class=\"data row5 col4\" >-0.042860</td>\n",
       "      <td id=\"T_aedb0_row5_col5\" class=\"data row5 col5\" >1.000000</td>\n",
       "      <td id=\"T_aedb0_row5_col6\" class=\"data row5 col6\" >0.107138</td>\n",
       "      <td id=\"T_aedb0_row5_col7\" class=\"data row5 col7\" >0.232065</td>\n",
       "      <td id=\"T_aedb0_row5_col8\" class=\"data row5 col8\" >0.048042</td>\n",
       "      <td id=\"T_aedb0_row5_col9\" class=\"data row5 col9\" >0.072290</td>\n",
       "      <td id=\"T_aedb0_row5_col10\" class=\"data row5 col10\" >0.225971</td>\n",
       "      <td id=\"T_aedb0_row5_col11\" class=\"data row5 col11\" >0.164836</td>\n",
       "      <td id=\"T_aedb0_row5_col12\" class=\"data row5 col12\" >0.080912</td>\n",
       "      <td id=\"T_aedb0_row5_col13\" class=\"data row5 col13\" >0.013678</td>\n",
       "      <td id=\"T_aedb0_row5_col14\" class=\"data row5 col14\" >0.043815</td>\n",
       "      <td id=\"T_aedb0_row5_col15\" class=\"data row5 col15\" >0.082482</td>\n",
       "    </tr>\n",
       "    <tr>\n",
       "      <th id=\"T_aedb0_level0_row6\" class=\"row_heading level0 row6\" >prevalentStroke</th>\n",
       "      <td id=\"T_aedb0_row6_col0\" class=\"data row6 col0\" >-0.004546</td>\n",
       "      <td id=\"T_aedb0_row6_col1\" class=\"data row6 col1\" >0.057655</td>\n",
       "      <td id=\"T_aedb0_row6_col2\" class=\"data row6 col2\" >-0.035112</td>\n",
       "      <td id=\"T_aedb0_row6_col3\" class=\"data row6 col3\" >-0.032988</td>\n",
       "      <td id=\"T_aedb0_row6_col4\" class=\"data row6 col4\" >-0.032707</td>\n",
       "      <td id=\"T_aedb0_row6_col5\" class=\"data row6 col5\" >0.107138</td>\n",
       "      <td id=\"T_aedb0_row6_col6\" class=\"data row6 col6\" >1.000000</td>\n",
       "      <td id=\"T_aedb0_row6_col7\" class=\"data row6 col7\" >0.074830</td>\n",
       "      <td id=\"T_aedb0_row6_col8\" class=\"data row6 col8\" >0.006949</td>\n",
       "      <td id=\"T_aedb0_row6_col9\" class=\"data row6 col9\" >0.000067</td>\n",
       "      <td id=\"T_aedb0_row6_col10\" class=\"data row6 col10\" >0.057009</td>\n",
       "      <td id=\"T_aedb0_row6_col11\" class=\"data row6 col11\" >0.045190</td>\n",
       "      <td id=\"T_aedb0_row6_col12\" class=\"data row6 col12\" >0.025891</td>\n",
       "      <td id=\"T_aedb0_row6_col13\" class=\"data row6 col13\" >-0.017676</td>\n",
       "      <td id=\"T_aedb0_row6_col14\" class=\"data row6 col14\" >0.018431</td>\n",
       "      <td id=\"T_aedb0_row6_col15\" class=\"data row6 col15\" >0.061810</td>\n",
       "    </tr>\n",
       "    <tr>\n",
       "      <th id=\"T_aedb0_level0_row7\" class=\"row_heading level0 row7\" >prevalentHyp</th>\n",
       "      <td id=\"T_aedb0_row7_col0\" class=\"data row7 col0\" >0.005313</td>\n",
       "      <td id=\"T_aedb0_row7_col1\" class=\"data row7 col1\" >0.307194</td>\n",
       "      <td id=\"T_aedb0_row7_col2\" class=\"data row7 col2\" >-0.081970</td>\n",
       "      <td id=\"T_aedb0_row7_col3\" class=\"data row7 col3\" >-0.103260</td>\n",
       "      <td id=\"T_aedb0_row7_col4\" class=\"data row7 col4\" >-0.066146</td>\n",
       "      <td id=\"T_aedb0_row7_col5\" class=\"data row7 col5\" >0.232065</td>\n",
       "      <td id=\"T_aedb0_row7_col6\" class=\"data row7 col6\" >0.074830</td>\n",
       "      <td id=\"T_aedb0_row7_col7\" class=\"data row7 col7\" >1.000000</td>\n",
       "      <td id=\"T_aedb0_row7_col8\" class=\"data row7 col8\" >0.077808</td>\n",
       "      <td id=\"T_aedb0_row7_col9\" class=\"data row7 col9\" >0.163993</td>\n",
       "      <td id=\"T_aedb0_row7_col10\" class=\"data row7 col10\" >0.696755</td>\n",
       "      <td id=\"T_aedb0_row7_col11\" class=\"data row7 col11\" >0.615751</td>\n",
       "      <td id=\"T_aedb0_row7_col12\" class=\"data row7 col12\" >0.301318</td>\n",
       "      <td id=\"T_aedb0_row7_col13\" class=\"data row7 col13\" >0.147261</td>\n",
       "      <td id=\"T_aedb0_row7_col14\" class=\"data row7 col14\" >0.086834</td>\n",
       "      <td id=\"T_aedb0_row7_col15\" class=\"data row7 col15\" >0.177603</td>\n",
       "    </tr>\n",
       "    <tr>\n",
       "      <th id=\"T_aedb0_level0_row8\" class=\"row_heading level0 row8\" >diabetes</th>\n",
       "      <td id=\"T_aedb0_row8_col0\" class=\"data row8 col0\" >0.015708</td>\n",
       "      <td id=\"T_aedb0_row8_col1\" class=\"data row8 col1\" >0.101258</td>\n",
       "      <td id=\"T_aedb0_row8_col2\" class=\"data row8 col2\" >-0.038680</td>\n",
       "      <td id=\"T_aedb0_row8_col3\" class=\"data row8 col3\" >-0.044295</td>\n",
       "      <td id=\"T_aedb0_row8_col4\" class=\"data row8 col4\" >-0.037067</td>\n",
       "      <td id=\"T_aedb0_row8_col5\" class=\"data row8 col5\" >0.048042</td>\n",
       "      <td id=\"T_aedb0_row8_col6\" class=\"data row8 col6\" >0.006949</td>\n",
       "      <td id=\"T_aedb0_row8_col7\" class=\"data row8 col7\" >0.077808</td>\n",
       "      <td id=\"T_aedb0_row8_col8\" class=\"data row8 col8\" >1.000000</td>\n",
       "      <td id=\"T_aedb0_row8_col9\" class=\"data row8 col9\" >0.040278</td>\n",
       "      <td id=\"T_aedb0_row8_col10\" class=\"data row8 col10\" >0.111283</td>\n",
       "      <td id=\"T_aedb0_row8_col11\" class=\"data row8 col11\" >0.050329</td>\n",
       "      <td id=\"T_aedb0_row8_col12\" class=\"data row8 col12\" >0.087036</td>\n",
       "      <td id=\"T_aedb0_row8_col13\" class=\"data row8 col13\" >0.048994</td>\n",
       "      <td id=\"T_aedb0_row8_col14\" class=\"data row8 col14\" >0.617627</td>\n",
       "      <td id=\"T_aedb0_row8_col15\" class=\"data row8 col15\" >0.097317</td>\n",
       "    </tr>\n",
       "    <tr>\n",
       "      <th id=\"T_aedb0_level0_row9\" class=\"row_heading level0 row9\" >totChol</th>\n",
       "      <td id=\"T_aedb0_row9_col0\" class=\"data row9 col0\" >-0.070322</td>\n",
       "      <td id=\"T_aedb0_row9_col1\" class=\"data row9 col1\" >0.262131</td>\n",
       "      <td id=\"T_aedb0_row9_col2\" class=\"data row9 col2\" >-0.023115</td>\n",
       "      <td id=\"T_aedb0_row9_col3\" class=\"data row9 col3\" >-0.046562</td>\n",
       "      <td id=\"T_aedb0_row9_col4\" class=\"data row9 col4\" >-0.026320</td>\n",
       "      <td id=\"T_aedb0_row9_col5\" class=\"data row9 col5\" >0.072290</td>\n",
       "      <td id=\"T_aedb0_row9_col6\" class=\"data row9 col6\" >0.000067</td>\n",
       "      <td id=\"T_aedb0_row9_col7\" class=\"data row9 col7\" >0.163993</td>\n",
       "      <td id=\"T_aedb0_row9_col8\" class=\"data row9 col8\" >0.040278</td>\n",
       "      <td id=\"T_aedb0_row9_col9\" class=\"data row9 col9\" >1.000000</td>\n",
       "      <td id=\"T_aedb0_row9_col10\" class=\"data row9 col10\" >0.208908</td>\n",
       "      <td id=\"T_aedb0_row9_col11\" class=\"data row9 col11\" >0.165182</td>\n",
       "      <td id=\"T_aedb0_row9_col12\" class=\"data row9 col12\" >0.115767</td>\n",
       "      <td id=\"T_aedb0_row9_col13\" class=\"data row9 col13\" >0.091125</td>\n",
       "      <td id=\"T_aedb0_row9_col14\" class=\"data row9 col14\" >0.046408</td>\n",
       "      <td id=\"T_aedb0_row9_col15\" class=\"data row9 col15\" >0.082184</td>\n",
       "    </tr>\n",
       "    <tr>\n",
       "      <th id=\"T_aedb0_level0_row10\" class=\"row_heading level0 row10\" >sysBP</th>\n",
       "      <td id=\"T_aedb0_row10_col0\" class=\"data row10 col0\" >-0.035989</td>\n",
       "      <td id=\"T_aedb0_row10_col1\" class=\"data row10 col1\" >0.394302</td>\n",
       "      <td id=\"T_aedb0_row10_col2\" class=\"data row10 col2\" >-0.129631</td>\n",
       "      <td id=\"T_aedb0_row10_col3\" class=\"data row10 col3\" >-0.130230</td>\n",
       "      <td id=\"T_aedb0_row10_col4\" class=\"data row10 col4\" >-0.088780</td>\n",
       "      <td id=\"T_aedb0_row10_col5\" class=\"data row10 col5\" >0.225971</td>\n",
       "      <td id=\"T_aedb0_row10_col6\" class=\"data row10 col6\" >0.057009</td>\n",
       "      <td id=\"T_aedb0_row10_col7\" class=\"data row10 col7\" >0.696755</td>\n",
       "      <td id=\"T_aedb0_row10_col8\" class=\"data row10 col8\" >0.111283</td>\n",
       "      <td id=\"T_aedb0_row10_col9\" class=\"data row10 col9\" >0.208908</td>\n",
       "      <td id=\"T_aedb0_row10_col10\" class=\"data row10 col10\" >1.000000</td>\n",
       "      <td id=\"T_aedb0_row10_col11\" class=\"data row10 col11\" >0.784002</td>\n",
       "      <td id=\"T_aedb0_row10_col12\" class=\"data row10 col12\" >0.326981</td>\n",
       "      <td id=\"T_aedb0_row10_col13\" class=\"data row10 col13\" >0.182246</td>\n",
       "      <td id=\"T_aedb0_row10_col14\" class=\"data row10 col14\" >0.140621</td>\n",
       "      <td id=\"T_aedb0_row10_col15\" class=\"data row10 col15\" >0.216429</td>\n",
       "    </tr>\n",
       "    <tr>\n",
       "      <th id=\"T_aedb0_level0_row11\" class=\"row_heading level0 row11\" >diaBP</th>\n",
       "      <td id=\"T_aedb0_row11_col0\" class=\"data row11 col0\" >0.057933</td>\n",
       "      <td id=\"T_aedb0_row11_col1\" class=\"data row11 col1\" >0.206104</td>\n",
       "      <td id=\"T_aedb0_row11_col2\" class=\"data row11 col2\" >-0.062316</td>\n",
       "      <td id=\"T_aedb0_row11_col3\" class=\"data row11 col3\" >-0.107746</td>\n",
       "      <td id=\"T_aedb0_row11_col4\" class=\"data row11 col4\" >-0.056632</td>\n",
       "      <td id=\"T_aedb0_row11_col5\" class=\"data row11 col5\" >0.164836</td>\n",
       "      <td id=\"T_aedb0_row11_col6\" class=\"data row11 col6\" >0.045190</td>\n",
       "      <td id=\"T_aedb0_row11_col7\" class=\"data row11 col7\" >0.615751</td>\n",
       "      <td id=\"T_aedb0_row11_col8\" class=\"data row11 col8\" >0.050329</td>\n",
       "      <td id=\"T_aedb0_row11_col9\" class=\"data row11 col9\" >0.165182</td>\n",
       "      <td id=\"T_aedb0_row11_col10\" class=\"data row11 col10\" >0.784002</td>\n",
       "      <td id=\"T_aedb0_row11_col11\" class=\"data row11 col11\" >1.000000</td>\n",
       "      <td id=\"T_aedb0_row11_col12\" class=\"data row11 col12\" >0.377588</td>\n",
       "      <td id=\"T_aedb0_row11_col13\" class=\"data row11 col13\" >0.181255</td>\n",
       "      <td id=\"T_aedb0_row11_col14\" class=\"data row11 col14\" >0.061231</td>\n",
       "      <td id=\"T_aedb0_row11_col15\" class=\"data row11 col15\" >0.145299</td>\n",
       "    </tr>\n",
       "    <tr>\n",
       "      <th id=\"T_aedb0_level0_row12\" class=\"row_heading level0 row12\" >BMI</th>\n",
       "      <td id=\"T_aedb0_row12_col0\" class=\"data row12 col0\" >0.081672</td>\n",
       "      <td id=\"T_aedb0_row12_col1\" class=\"data row12 col1\" >0.135800</td>\n",
       "      <td id=\"T_aedb0_row12_col2\" class=\"data row12 col2\" >-0.137504</td>\n",
       "      <td id=\"T_aedb0_row12_col3\" class=\"data row12 col3\" >-0.167650</td>\n",
       "      <td id=\"T_aedb0_row12_col4\" class=\"data row12 col4\" >-0.092856</td>\n",
       "      <td id=\"T_aedb0_row12_col5\" class=\"data row12 col5\" >0.080912</td>\n",
       "      <td id=\"T_aedb0_row12_col6\" class=\"data row12 col6\" >0.025891</td>\n",
       "      <td id=\"T_aedb0_row12_col7\" class=\"data row12 col7\" >0.301318</td>\n",
       "      <td id=\"T_aedb0_row12_col8\" class=\"data row12 col8\" >0.087036</td>\n",
       "      <td id=\"T_aedb0_row12_col9\" class=\"data row12 col9\" >0.115767</td>\n",
       "      <td id=\"T_aedb0_row12_col10\" class=\"data row12 col10\" >0.326981</td>\n",
       "      <td id=\"T_aedb0_row12_col11\" class=\"data row12 col11\" >0.377588</td>\n",
       "      <td id=\"T_aedb0_row12_col12\" class=\"data row12 col12\" >1.000000</td>\n",
       "      <td id=\"T_aedb0_row12_col13\" class=\"data row12 col13\" >0.067678</td>\n",
       "      <td id=\"T_aedb0_row12_col14\" class=\"data row12 col14\" >0.087377</td>\n",
       "      <td id=\"T_aedb0_row12_col15\" class=\"data row12 col15\" >0.075192</td>\n",
       "    </tr>\n",
       "    <tr>\n",
       "      <th id=\"T_aedb0_level0_row13\" class=\"row_heading level0 row13\" >heartRate</th>\n",
       "      <td id=\"T_aedb0_row13_col0\" class=\"data row13 col0\" >-0.116620</td>\n",
       "      <td id=\"T_aedb0_row13_col1\" class=\"data row13 col1\" >-0.012823</td>\n",
       "      <td id=\"T_aedb0_row13_col2\" class=\"data row13 col2\" >-0.054206</td>\n",
       "      <td id=\"T_aedb0_row13_col3\" class=\"data row13 col3\" >0.062356</td>\n",
       "      <td id=\"T_aedb0_row13_col4\" class=\"data row13 col4\" >0.075157</td>\n",
       "      <td id=\"T_aedb0_row13_col5\" class=\"data row13 col5\" >0.013678</td>\n",
       "      <td id=\"T_aedb0_row13_col6\" class=\"data row13 col6\" >-0.017676</td>\n",
       "      <td id=\"T_aedb0_row13_col7\" class=\"data row13 col7\" >0.147261</td>\n",
       "      <td id=\"T_aedb0_row13_col8\" class=\"data row13 col8\" >0.048994</td>\n",
       "      <td id=\"T_aedb0_row13_col9\" class=\"data row13 col9\" >0.091125</td>\n",
       "      <td id=\"T_aedb0_row13_col10\" class=\"data row13 col10\" >0.182246</td>\n",
       "      <td id=\"T_aedb0_row13_col11\" class=\"data row13 col11\" >0.181255</td>\n",
       "      <td id=\"T_aedb0_row13_col12\" class=\"data row13 col12\" >0.067678</td>\n",
       "      <td id=\"T_aedb0_row13_col13\" class=\"data row13 col13\" >1.000000</td>\n",
       "      <td id=\"T_aedb0_row13_col14\" class=\"data row13 col14\" >0.094500</td>\n",
       "      <td id=\"T_aedb0_row13_col15\" class=\"data row13 col15\" >0.022913</td>\n",
       "    </tr>\n",
       "    <tr>\n",
       "      <th id=\"T_aedb0_level0_row14\" class=\"row_heading level0 row14\" >glucose</th>\n",
       "      <td id=\"T_aedb0_row14_col0\" class=\"data row14 col0\" >0.006083</td>\n",
       "      <td id=\"T_aedb0_row14_col1\" class=\"data row14 col1\" >0.122256</td>\n",
       "      <td id=\"T_aedb0_row14_col2\" class=\"data row14 col2\" >-0.035721</td>\n",
       "      <td id=\"T_aedb0_row14_col3\" class=\"data row14 col3\" >-0.056826</td>\n",
       "      <td id=\"T_aedb0_row14_col4\" class=\"data row14 col4\" >-0.058960</td>\n",
       "      <td id=\"T_aedb0_row14_col5\" class=\"data row14 col5\" >0.043815</td>\n",
       "      <td id=\"T_aedb0_row14_col6\" class=\"data row14 col6\" >0.018431</td>\n",
       "      <td id=\"T_aedb0_row14_col7\" class=\"data row14 col7\" >0.086834</td>\n",
       "      <td id=\"T_aedb0_row14_col8\" class=\"data row14 col8\" >0.617627</td>\n",
       "      <td id=\"T_aedb0_row14_col9\" class=\"data row14 col9\" >0.046408</td>\n",
       "      <td id=\"T_aedb0_row14_col10\" class=\"data row14 col10\" >0.140621</td>\n",
       "      <td id=\"T_aedb0_row14_col11\" class=\"data row14 col11\" >0.061231</td>\n",
       "      <td id=\"T_aedb0_row14_col12\" class=\"data row14 col12\" >0.087377</td>\n",
       "      <td id=\"T_aedb0_row14_col13\" class=\"data row14 col13\" >0.094500</td>\n",
       "      <td id=\"T_aedb0_row14_col14\" class=\"data row14 col14\" >1.000000</td>\n",
       "      <td id=\"T_aedb0_row14_col15\" class=\"data row14 col15\" >0.125544</td>\n",
       "    </tr>\n",
       "    <tr>\n",
       "      <th id=\"T_aedb0_level0_row15\" class=\"row_heading level0 row15\" >TenYearCHD</th>\n",
       "      <td id=\"T_aedb0_row15_col0\" class=\"data row15 col0\" >0.088428</td>\n",
       "      <td id=\"T_aedb0_row15_col1\" class=\"data row15 col1\" >0.225256</td>\n",
       "      <td id=\"T_aedb0_row15_col2\" class=\"data row15 col2\" >-0.054059</td>\n",
       "      <td id=\"T_aedb0_row15_col3\" class=\"data row15 col3\" >0.019456</td>\n",
       "      <td id=\"T_aedb0_row15_col4\" class=\"data row15 col4\" >0.057884</td>\n",
       "      <td id=\"T_aedb0_row15_col5\" class=\"data row15 col5\" >0.082482</td>\n",
       "      <td id=\"T_aedb0_row15_col6\" class=\"data row15 col6\" >0.061810</td>\n",
       "      <td id=\"T_aedb0_row15_col7\" class=\"data row15 col7\" >0.177603</td>\n",
       "      <td id=\"T_aedb0_row15_col8\" class=\"data row15 col8\" >0.097317</td>\n",
       "      <td id=\"T_aedb0_row15_col9\" class=\"data row15 col9\" >0.082184</td>\n",
       "      <td id=\"T_aedb0_row15_col10\" class=\"data row15 col10\" >0.216429</td>\n",
       "      <td id=\"T_aedb0_row15_col11\" class=\"data row15 col11\" >0.145299</td>\n",
       "      <td id=\"T_aedb0_row15_col12\" class=\"data row15 col12\" >0.075192</td>\n",
       "      <td id=\"T_aedb0_row15_col13\" class=\"data row15 col13\" >0.022913</td>\n",
       "      <td id=\"T_aedb0_row15_col14\" class=\"data row15 col14\" >0.125544</td>\n",
       "      <td id=\"T_aedb0_row15_col15\" class=\"data row15 col15\" >1.000000</td>\n",
       "    </tr>\n",
       "  </tbody>\n",
       "</table>\n"
      ],
      "text/plain": [
       "<pandas.io.formats.style.Styler at 0x7f6e73e9fd30>"
      ]
     },
     "execution_count": 10,
     "metadata": {},
     "output_type": "execute_result"
    }
   ],
   "source": [
    "framingham.corr().style.background_gradient(cmap='coolwarm')"
   ]
  },
  {
   "cell_type": "markdown",
   "metadata": {},
   "source": [
    "### TBD Regressione lineare/polinomiale\n",
    "posso decidere se effettuare una regressione lineare sulle features più correlate o effettuare una regressione polinomiale con tutte le futures  "
   ]
  },
  {
   "cell_type": "markdown",
   "metadata": {},
   "source": [
    "### Costruzione dell'albero"
   ]
  },
  {
   "cell_type": "code",
   "execution_count": 10,
   "metadata": {},
   "outputs": [],
   "source": [
    "from sklearn.model_selection import train_test_split\n",
    "\n",
    "X = framingham.iloc[:,:-1]\n",
    "X = pd.get_dummies(X, columns=X.columns)\n",
    "y = framingham.TenYearCHD\n",
    "\n",
    "X_train, X_test, y_train, y_test = train_test_split(X, y, test_size=0.33)"
   ]
  },
  {
   "cell_type": "code",
   "execution_count": 11,
   "metadata": {},
   "outputs": [
    {
     "data": {
      "text/html": [
       "<style>#sk-container-id-1 {color: black;background-color: white;}#sk-container-id-1 pre{padding: 0;}#sk-container-id-1 div.sk-toggleable {background-color: white;}#sk-container-id-1 label.sk-toggleable__label {cursor: pointer;display: block;width: 100%;margin-bottom: 0;padding: 0.3em;box-sizing: border-box;text-align: center;}#sk-container-id-1 label.sk-toggleable__label-arrow:before {content: \"▸\";float: left;margin-right: 0.25em;color: #696969;}#sk-container-id-1 label.sk-toggleable__label-arrow:hover:before {color: black;}#sk-container-id-1 div.sk-estimator:hover label.sk-toggleable__label-arrow:before {color: black;}#sk-container-id-1 div.sk-toggleable__content {max-height: 0;max-width: 0;overflow: hidden;text-align: left;background-color: #f0f8ff;}#sk-container-id-1 div.sk-toggleable__content pre {margin: 0.2em;color: black;border-radius: 0.25em;background-color: #f0f8ff;}#sk-container-id-1 input.sk-toggleable__control:checked~div.sk-toggleable__content {max-height: 200px;max-width: 100%;overflow: auto;}#sk-container-id-1 input.sk-toggleable__control:checked~label.sk-toggleable__label-arrow:before {content: \"▾\";}#sk-container-id-1 div.sk-estimator input.sk-toggleable__control:checked~label.sk-toggleable__label {background-color: #d4ebff;}#sk-container-id-1 div.sk-label input.sk-toggleable__control:checked~label.sk-toggleable__label {background-color: #d4ebff;}#sk-container-id-1 input.sk-hidden--visually {border: 0;clip: rect(1px 1px 1px 1px);clip: rect(1px, 1px, 1px, 1px);height: 1px;margin: -1px;overflow: hidden;padding: 0;position: absolute;width: 1px;}#sk-container-id-1 div.sk-estimator {font-family: monospace;background-color: #f0f8ff;border: 1px dotted black;border-radius: 0.25em;box-sizing: border-box;margin-bottom: 0.5em;}#sk-container-id-1 div.sk-estimator:hover {background-color: #d4ebff;}#sk-container-id-1 div.sk-parallel-item::after {content: \"\";width: 100%;border-bottom: 1px solid gray;flex-grow: 1;}#sk-container-id-1 div.sk-label:hover label.sk-toggleable__label {background-color: #d4ebff;}#sk-container-id-1 div.sk-serial::before {content: \"\";position: absolute;border-left: 1px solid gray;box-sizing: border-box;top: 0;bottom: 0;left: 50%;z-index: 0;}#sk-container-id-1 div.sk-serial {display: flex;flex-direction: column;align-items: center;background-color: white;padding-right: 0.2em;padding-left: 0.2em;position: relative;}#sk-container-id-1 div.sk-item {position: relative;z-index: 1;}#sk-container-id-1 div.sk-parallel {display: flex;align-items: stretch;justify-content: center;background-color: white;position: relative;}#sk-container-id-1 div.sk-item::before, #sk-container-id-1 div.sk-parallel-item::before {content: \"\";position: absolute;border-left: 1px solid gray;box-sizing: border-box;top: 0;bottom: 0;left: 50%;z-index: -1;}#sk-container-id-1 div.sk-parallel-item {display: flex;flex-direction: column;z-index: 1;position: relative;background-color: white;}#sk-container-id-1 div.sk-parallel-item:first-child::after {align-self: flex-end;width: 50%;}#sk-container-id-1 div.sk-parallel-item:last-child::after {align-self: flex-start;width: 50%;}#sk-container-id-1 div.sk-parallel-item:only-child::after {width: 0;}#sk-container-id-1 div.sk-dashed-wrapped {border: 1px dashed gray;margin: 0 0.4em 0.5em 0.4em;box-sizing: border-box;padding-bottom: 0.4em;background-color: white;}#sk-container-id-1 div.sk-label label {font-family: monospace;font-weight: bold;display: inline-block;line-height: 1.2em;}#sk-container-id-1 div.sk-label-container {text-align: center;}#sk-container-id-1 div.sk-container {/* jupyter's `normalize.less` sets `[hidden] { display: none; }` but bootstrap.min.css set `[hidden] { display: none !important; }` so we also need the `!important` here to be able to override the default hidden behavior on the sphinx rendered scikit-learn.org. See: https://github.com/scikit-learn/scikit-learn/issues/21755 */display: inline-block !important;position: relative;}#sk-container-id-1 div.sk-text-repr-fallback {display: none;}</style><div id=\"sk-container-id-1\" class=\"sk-top-container\"><div class=\"sk-text-repr-fallback\"><pre>DecisionTreeClassifier(max_depth=3)</pre><b>In a Jupyter environment, please rerun this cell to show the HTML representation or trust the notebook. <br />On GitHub, the HTML representation is unable to render, please try loading this page with nbviewer.org.</b></div><div class=\"sk-container\" hidden><div class=\"sk-item\"><div class=\"sk-estimator sk-toggleable\"><input class=\"sk-toggleable__control sk-hidden--visually\" id=\"sk-estimator-id-1\" type=\"checkbox\" checked><label for=\"sk-estimator-id-1\" class=\"sk-toggleable__label sk-toggleable__label-arrow\">DecisionTreeClassifier</label><div class=\"sk-toggleable__content\"><pre>DecisionTreeClassifier(max_depth=3)</pre></div></div></div></div></div>"
      ],
      "text/plain": [
       "DecisionTreeClassifier(max_depth=3)"
      ]
     },
     "execution_count": 11,
     "metadata": {},
     "output_type": "execute_result"
    }
   ],
   "source": [
    "from sklearn import tree\n",
    "from sklearn.tree import DecisionTreeClassifier\n",
    "\n",
    "clf = DecisionTreeClassifier(max_depth=3)\n",
    "clf.fit(X_train, y_train)"
   ]
  },
  {
   "cell_type": "code",
   "execution_count": 13,
   "metadata": {},
   "outputs": [
    {
     "data": {
      "text/html": [
       "<div>\n",
       "<style scoped>\n",
       "    .dataframe tbody tr th:only-of-type {\n",
       "        vertical-align: middle;\n",
       "    }\n",
       "\n",
       "    .dataframe tbody tr th {\n",
       "        vertical-align: top;\n",
       "    }\n",
       "\n",
       "    .dataframe thead th {\n",
       "        text-align: right;\n",
       "    }\n",
       "</style>\n",
       "<table border=\"1\" class=\"dataframe\">\n",
       "  <thead>\n",
       "    <tr style=\"text-align: right;\">\n",
       "      <th></th>\n",
       "      <th>prediction</th>\n",
       "      <th>real_data</th>\n",
       "    </tr>\n",
       "  </thead>\n",
       "  <tbody>\n",
       "    <tr>\n",
       "      <th>0</th>\n",
       "      <td>False</td>\n",
       "      <td>False</td>\n",
       "    </tr>\n",
       "    <tr>\n",
       "      <th>1</th>\n",
       "      <td>False</td>\n",
       "      <td>False</td>\n",
       "    </tr>\n",
       "    <tr>\n",
       "      <th>2</th>\n",
       "      <td>False</td>\n",
       "      <td>False</td>\n",
       "    </tr>\n",
       "    <tr>\n",
       "      <th>3</th>\n",
       "      <td>False</td>\n",
       "      <td>True</td>\n",
       "    </tr>\n",
       "    <tr>\n",
       "      <th>4</th>\n",
       "      <td>False</td>\n",
       "      <td>False</td>\n",
       "    </tr>\n",
       "    <tr>\n",
       "      <th>...</th>\n",
       "      <td>...</td>\n",
       "      <td>...</td>\n",
       "    </tr>\n",
       "    <tr>\n",
       "      <th>4233</th>\n",
       "      <td>False</td>\n",
       "      <td>True</td>\n",
       "    </tr>\n",
       "    <tr>\n",
       "      <th>4234</th>\n",
       "      <td>True</td>\n",
       "      <td>False</td>\n",
       "    </tr>\n",
       "    <tr>\n",
       "      <th>4235</th>\n",
       "      <td>False</td>\n",
       "      <td>False</td>\n",
       "    </tr>\n",
       "    <tr>\n",
       "      <th>4236</th>\n",
       "      <td>False</td>\n",
       "      <td>False</td>\n",
       "    </tr>\n",
       "    <tr>\n",
       "      <th>4237</th>\n",
       "      <td>False</td>\n",
       "      <td>False</td>\n",
       "    </tr>\n",
       "  </tbody>\n",
       "</table>\n",
       "<p>4238 rows × 2 columns</p>\n",
       "</div>"
      ],
      "text/plain": [
       "      prediction  real_data\n",
       "0          False      False\n",
       "1          False      False\n",
       "2          False      False\n",
       "3          False       True\n",
       "4          False      False\n",
       "...          ...        ...\n",
       "4233       False       True\n",
       "4234        True      False\n",
       "4235       False      False\n",
       "4236       False      False\n",
       "4237       False      False\n",
       "\n",
       "[4238 rows x 2 columns]"
      ]
     },
     "execution_count": 13,
     "metadata": {},
     "output_type": "execute_result"
    }
   ],
   "source": [
    "d = framingham\n",
    "d['prediction'] = clf.predict(X)\n",
    "d['real_data'] = y\n",
    "d[['prediction', 'real_data']]"
   ]
  },
  {
   "cell_type": "code",
   "execution_count": 14,
   "metadata": {},
   "outputs": [
    {
     "data": {
      "text/plain": [
       "(634, 3604)"
      ]
     },
     "execution_count": 14,
     "metadata": {},
     "output_type": "execute_result"
    }
   ],
   "source": [
    "len(d[d['prediction'] != d['real_data']]), len(d[d['prediction'] == d['real_data']])"
   ]
  },
  {
   "cell_type": "code",
   "execution_count": 15,
   "metadata": {},
   "outputs": [
    {
     "data": {
      "text/html": [
       "<style>#sk-container-id-2 {color: black;background-color: white;}#sk-container-id-2 pre{padding: 0;}#sk-container-id-2 div.sk-toggleable {background-color: white;}#sk-container-id-2 label.sk-toggleable__label {cursor: pointer;display: block;width: 100%;margin-bottom: 0;padding: 0.3em;box-sizing: border-box;text-align: center;}#sk-container-id-2 label.sk-toggleable__label-arrow:before {content: \"▸\";float: left;margin-right: 0.25em;color: #696969;}#sk-container-id-2 label.sk-toggleable__label-arrow:hover:before {color: black;}#sk-container-id-2 div.sk-estimator:hover label.sk-toggleable__label-arrow:before {color: black;}#sk-container-id-2 div.sk-toggleable__content {max-height: 0;max-width: 0;overflow: hidden;text-align: left;background-color: #f0f8ff;}#sk-container-id-2 div.sk-toggleable__content pre {margin: 0.2em;color: black;border-radius: 0.25em;background-color: #f0f8ff;}#sk-container-id-2 input.sk-toggleable__control:checked~div.sk-toggleable__content {max-height: 200px;max-width: 100%;overflow: auto;}#sk-container-id-2 input.sk-toggleable__control:checked~label.sk-toggleable__label-arrow:before {content: \"▾\";}#sk-container-id-2 div.sk-estimator input.sk-toggleable__control:checked~label.sk-toggleable__label {background-color: #d4ebff;}#sk-container-id-2 div.sk-label input.sk-toggleable__control:checked~label.sk-toggleable__label {background-color: #d4ebff;}#sk-container-id-2 input.sk-hidden--visually {border: 0;clip: rect(1px 1px 1px 1px);clip: rect(1px, 1px, 1px, 1px);height: 1px;margin: -1px;overflow: hidden;padding: 0;position: absolute;width: 1px;}#sk-container-id-2 div.sk-estimator {font-family: monospace;background-color: #f0f8ff;border: 1px dotted black;border-radius: 0.25em;box-sizing: border-box;margin-bottom: 0.5em;}#sk-container-id-2 div.sk-estimator:hover {background-color: #d4ebff;}#sk-container-id-2 div.sk-parallel-item::after {content: \"\";width: 100%;border-bottom: 1px solid gray;flex-grow: 1;}#sk-container-id-2 div.sk-label:hover label.sk-toggleable__label {background-color: #d4ebff;}#sk-container-id-2 div.sk-serial::before {content: \"\";position: absolute;border-left: 1px solid gray;box-sizing: border-box;top: 0;bottom: 0;left: 50%;z-index: 0;}#sk-container-id-2 div.sk-serial {display: flex;flex-direction: column;align-items: center;background-color: white;padding-right: 0.2em;padding-left: 0.2em;position: relative;}#sk-container-id-2 div.sk-item {position: relative;z-index: 1;}#sk-container-id-2 div.sk-parallel {display: flex;align-items: stretch;justify-content: center;background-color: white;position: relative;}#sk-container-id-2 div.sk-item::before, #sk-container-id-2 div.sk-parallel-item::before {content: \"\";position: absolute;border-left: 1px solid gray;box-sizing: border-box;top: 0;bottom: 0;left: 50%;z-index: -1;}#sk-container-id-2 div.sk-parallel-item {display: flex;flex-direction: column;z-index: 1;position: relative;background-color: white;}#sk-container-id-2 div.sk-parallel-item:first-child::after {align-self: flex-end;width: 50%;}#sk-container-id-2 div.sk-parallel-item:last-child::after {align-self: flex-start;width: 50%;}#sk-container-id-2 div.sk-parallel-item:only-child::after {width: 0;}#sk-container-id-2 div.sk-dashed-wrapped {border: 1px dashed gray;margin: 0 0.4em 0.5em 0.4em;box-sizing: border-box;padding-bottom: 0.4em;background-color: white;}#sk-container-id-2 div.sk-label label {font-family: monospace;font-weight: bold;display: inline-block;line-height: 1.2em;}#sk-container-id-2 div.sk-label-container {text-align: center;}#sk-container-id-2 div.sk-container {/* jupyter's `normalize.less` sets `[hidden] { display: none; }` but bootstrap.min.css set `[hidden] { display: none !important; }` so we also need the `!important` here to be able to override the default hidden behavior on the sphinx rendered scikit-learn.org. See: https://github.com/scikit-learn/scikit-learn/issues/21755 */display: inline-block !important;position: relative;}#sk-container-id-2 div.sk-text-repr-fallback {display: none;}</style><div id=\"sk-container-id-2\" class=\"sk-top-container\"><div class=\"sk-text-repr-fallback\"><pre>DecisionTreeClassifier(max_depth=3)</pre><b>In a Jupyter environment, please rerun this cell to show the HTML representation or trust the notebook. <br />On GitHub, the HTML representation is unable to render, please try loading this page with nbviewer.org.</b></div><div class=\"sk-container\" hidden><div class=\"sk-item\"><div class=\"sk-estimator sk-toggleable\"><input class=\"sk-toggleable__control sk-hidden--visually\" id=\"sk-estimator-id-2\" type=\"checkbox\" checked><label for=\"sk-estimator-id-2\" class=\"sk-toggleable__label sk-toggleable__label-arrow\">DecisionTreeClassifier</label><div class=\"sk-toggleable__content\"><pre>DecisionTreeClassifier(max_depth=3)</pre></div></div></div></div></div>"
      ],
      "text/plain": [
       "DecisionTreeClassifier(max_depth=3)"
      ]
     },
     "execution_count": 15,
     "metadata": {},
     "output_type": "execute_result"
    }
   ],
   "source": [
    "clf"
   ]
  },
  {
   "cell_type": "code",
   "execution_count": 16,
   "metadata": {},
   "outputs": [
    {
     "data": {
      "image/png": "[encoded data removed]",
      "text/plain": [
       "<Figure size 1800x720 with 1 Axes>"
      ]
     },
     "metadata": {
      "needs_background": "light"
     },
     "output_type": "display_data"
    }
   ],
   "source": [
    "import matplotlib.pyplot as plt\n",
    "\n",
    "fig = plt.figure(figsize=(25,10))\n",
    "_ = tree.plot_tree(clf, \n",
    "                   feature_names=X.columns,\n",
    "                   filled=True)"
   ]
  },
  {
   "cell_type": "markdown",
   "metadata": {},
   "source": [
    "<a id=\"esercizio2\"></a>\n",
    "## Esercizio serie storica"
   ]
  },
  {
   "cell_type": "markdown",
   "metadata": {},
   "source": [
    "Questo secondo esercizio richiede di effettuare un'analisi di dati di serie storica.\n",
    "\n",
    "Leggendo il dataset `data/globaltemperatures.csv`, caricare i dati della media della temperatura nei diversi mesi dell'anno dal 1750. Plottare la serie dati, analizarne le caratteristiche (tendenza e stagionalità) e provare a fare una regressione lineare del trend (per valutarne la tendenza). Per fare regressione lineare di una timeseries è conveniente trasformare l'indice (l'asse X) in un numero che indica il numero di periodi passati dal momento inziale.\n",
    "\n",
    "Infine provare a usare la serie storica per produrre le temperature dei successivi 10 anni."
   ]
  },
  {
   "cell_type": "code",
   "execution_count": null,
   "metadata": {
    "scrolled": true
   },
   "outputs": [],
   "source": []
  },
  {
   "cell_type": "markdown",
   "metadata": {},
   "source": [
    "<a id=\"esercizio3\"></a>\n",
    "## Predizione di malattie cardiache"
   ]
  },
  {
   "cell_type": "markdown",
   "metadata": {},
   "source": [
    "Prevedere se un paziente ha probabilità una malattia cardiaca o meno. Abbiamo un dato che classifica se i pazienti hanno o meno malattie cardiache in base alle caratteristiche in esso contenute. Cercheremo di utilizzare questi dati per creare un modello che tenti di prevedere se un paziente ha questa malattia o meno.\n",
    "\n",
    "Il set di dati è memorizzato nel file `heart.csv` e preso da\n",
    "https://archive.ics.uci.edu/ml/datasets/Heart+Malattia"
   ]
  },
  {
   "cell_type": "code",
   "execution_count": null,
   "metadata": {},
   "outputs": [],
   "source": []
  }
 ],
 "metadata": {
  "kernelspec": {
   "display_name": "Python 3 (ipykernel)",
   "language": "python",
   "name": "python3"
  },
  "language_info": {
   "codemirror_mode": {
    "name": "ipython",
    "version": 3
   },
   "file_extension": ".py",
   "mimetype": "text/x-python",
   "name": "python",
   "nbconvert_exporter": "python",
   "pygments_lexer": "ipython3",
   "version": "3.10.5"
  },
  "nbTranslate": {
   "displayLangs": [
    "*"
   ],
   "hotkey": "alt-t",
   "langInMainMenu": true,
   "sourceLang": "en",
   "targetLang": "fr",
   "useGoogleTranslate": true
  },
  "toc": {
   "base_numbering": 1,
   "nav_menu": {},
   "number_sections": true,
   "sideBar": true,
   "skip_h1_title": false,
   "title_cell": "Table of Contents",
   "title_sidebar": "Contents",
   "toc_cell": false,
   "toc_position": {
    "height": "calc(100% - 180px)",
    "left": "10px",
    "top": "150px",
    "width": "426.667px"
   },
   "toc_section_display": true,
   "toc_window_display": true
  }
 },
 "nbformat": 4,
 "nbformat_minor": 2
}
