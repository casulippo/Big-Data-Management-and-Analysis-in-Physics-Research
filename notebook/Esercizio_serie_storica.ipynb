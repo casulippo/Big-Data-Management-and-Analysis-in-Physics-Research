{
 "cells": [
  {
   "cell_type": "markdown",
   "id": "b0c82c90",
   "metadata": {},
   "source": [
    "## Esercizio serie storica  \n",
    "\n",
    "Questo secondo esercizio richiede di effettuare un'analisi di dati di serie storica.\n",
    "\n",
    "Leggendo il dataset data/globaltemperatures.csv, caricare i dati della media della temperatura nei diversi mesi dell'anno dal 1750. Plottare la serie dati, analizarne le caratteristiche (tendenza e stagionalità) e provare a fare una regressione lineare del trend (per valutarne la tendenza). Per fare regressione lineare di una timeseries è conveniente trasformare l'indice (l'asse X) in un numero che indica il numero di periodi passati dal momento inziale.\n",
    "\n",
    "Infine provare a usare la serie storica per produrre le temperature dei successivi 10 anni."
   ]
  }
 ],
 "metadata": {
  "kernelspec": {
   "display_name": "Python 3 (ipykernel)",
   "language": "python",
   "name": "python3"
  },
  "language_info": {
   "codemirror_mode": {
    "name": "ipython",
    "version": 3
   },
   "file_extension": ".py",
   "mimetype": "text/x-python",
   "name": "python",
   "nbconvert_exporter": "python",
   "pygments_lexer": "ipython3",
   "version": "3.10.5"
  }
 },
 "nbformat": 4,
 "nbformat_minor": 5
}
